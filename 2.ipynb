{
 "cells": [
  {
   "cell_type": "code",
   "execution_count": 1,
   "id": "63b4b4cc",
   "metadata": {},
   "outputs": [
    {
     "name": "stderr",
     "output_type": "stream",
     "text": [
      "C:\\Users\\Prashant Jadiya\\anaconda3\\envs\\pj\\lib\\site-packages\\numpy\\_distributor_init.py:30: UserWarning: loaded more than 1 DLL from .libs:\n",
      "C:\\Users\\Prashant Jadiya\\anaconda3\\envs\\pj\\lib\\site-packages\\numpy\\.libs\\libopenblas.GK7GX5KEQ4F6UYO3P26ULGBQYHGQO7J4.gfortran-win_amd64.dll\n",
      "C:\\Users\\Prashant Jadiya\\anaconda3\\envs\\pj\\lib\\site-packages\\numpy\\.libs\\libopenblas.PYQHXLVVQ7VESDPUVUADXEVJOBGHJPAY.gfortran-win_amd64.dll\n",
      "  warnings.warn(\"loaded more than 1 DLL from .libs:\"\n"
     ]
    }
   ],
   "source": [
    "import pandas as pd"
   ]
  },
  {
   "cell_type": "code",
   "execution_count": 2,
   "id": "c63c64cc",
   "metadata": {},
   "outputs": [],
   "source": [
    "df=pd.read_csv(\"casestudy.csv\")"
   ]
  },
  {
   "cell_type": "code",
   "execution_count": 3,
   "id": "4970f8a4",
   "metadata": {},
   "outputs": [],
   "source": [
    "#df"
   ]
  },
  {
   "cell_type": "code",
   "execution_count": 4,
   "id": "f254e5df",
   "metadata": {},
   "outputs": [],
   "source": [
    "df_2015=df[df['year']==2015]"
   ]
  },
  {
   "cell_type": "code",
   "execution_count": 5,
   "id": "5acc4ae6",
   "metadata": {},
   "outputs": [],
   "source": [
    "df_2016=df[df['year']==2016]"
   ]
  },
  {
   "cell_type": "code",
   "execution_count": 6,
   "id": "44f9a971",
   "metadata": {},
   "outputs": [],
   "source": [
    "df_2017=df[df['year']==2017]"
   ]
  },
  {
   "cell_type": "code",
   "execution_count": 62,
   "id": "ef55503a",
   "metadata": {},
   "outputs": [
    {
     "data": {
      "text/plain": [
       "(231294, 4)"
      ]
     },
     "execution_count": 62,
     "metadata": {},
     "output_type": "execute_result"
    }
   ],
   "source": [
    "df_2015.shape"
   ]
  },
  {
   "cell_type": "code",
   "execution_count": 8,
   "id": "06bcdff6",
   "metadata": {},
   "outputs": [
    {
     "data": {
      "text/plain": [
       "29036749.189999994"
      ]
     },
     "execution_count": 8,
     "metadata": {},
     "output_type": "execute_result"
    }
   ],
   "source": [
    "#for 2015\n",
    "\n",
    "#total revenue of current year\n",
    "\n",
    "df_2015['net_revenue'].sum()"
   ]
  },
  {
   "cell_type": "code",
   "execution_count": 9,
   "id": "c36cc98e",
   "metadata": {},
   "outputs": [
    {
     "data": {
      "text/plain": [
       "25730943.59"
      ]
     },
     "execution_count": 9,
     "metadata": {},
     "output_type": "execute_result"
    }
   ],
   "source": [
    "#for 2016\n",
    "#total revenue of current year\n",
    "\n",
    "df_2016['net_revenue'].sum()"
   ]
  },
  {
   "cell_type": "code",
   "execution_count": 10,
   "id": "32ff3c2d",
   "metadata": {},
   "outputs": [
    {
     "data": {
      "text/plain": [
       "31417495.030000016"
      ]
     },
     "execution_count": 10,
     "metadata": {},
     "output_type": "execute_result"
    }
   ],
   "source": [
    "#for 2017\n",
    "\n",
    "#total revenue of current year\n",
    "\n",
    "df_2017['net_revenue'].sum()"
   ]
  },
  {
   "cell_type": "code",
   "execution_count": 11,
   "id": "bb433c5b",
   "metadata": {},
   "outputs": [
    {
     "data": {
      "text/html": [
       "<div>\n",
       "<style scoped>\n",
       "    .dataframe tbody tr th:only-of-type {\n",
       "        vertical-align: middle;\n",
       "    }\n",
       "\n",
       "    .dataframe tbody tr th {\n",
       "        vertical-align: top;\n",
       "    }\n",
       "\n",
       "    .dataframe thead th {\n",
       "        text-align: right;\n",
       "    }\n",
       "</style>\n",
       "<table border=\"1\" class=\"dataframe\">\n",
       "  <thead>\n",
       "    <tr style=\"text-align: right;\">\n",
       "      <th></th>\n",
       "      <th>Unnamed: 0</th>\n",
       "      <th>customer_email</th>\n",
       "      <th>net_revenue</th>\n",
       "      <th>year</th>\n",
       "    </tr>\n",
       "  </thead>\n",
       "  <tbody>\n",
       "    <tr>\n",
       "      <th>231294</th>\n",
       "      <td>231294</td>\n",
       "      <td>mwrossuukz@gmail.com</td>\n",
       "      <td>197.26</td>\n",
       "      <td>2016</td>\n",
       "    </tr>\n",
       "    <tr>\n",
       "      <th>231295</th>\n",
       "      <td>231295</td>\n",
       "      <td>gkwsoupawk@gmail.com</td>\n",
       "      <td>38.28</td>\n",
       "      <td>2016</td>\n",
       "    </tr>\n",
       "    <tr>\n",
       "      <th>231296</th>\n",
       "      <td>231296</td>\n",
       "      <td>vlyigtgfzs@gmail.com</td>\n",
       "      <td>154.57</td>\n",
       "      <td>2016</td>\n",
       "    </tr>\n",
       "    <tr>\n",
       "      <th>231297</th>\n",
       "      <td>231297</td>\n",
       "      <td>yfirychuhk@gmail.com</td>\n",
       "      <td>102.47</td>\n",
       "      <td>2016</td>\n",
       "    </tr>\n",
       "    <tr>\n",
       "      <th>231298</th>\n",
       "      <td>231298</td>\n",
       "      <td>trnzgqinuu@gmail.com</td>\n",
       "      <td>32.03</td>\n",
       "      <td>2016</td>\n",
       "    </tr>\n",
       "    <tr>\n",
       "      <th>...</th>\n",
       "      <td>...</td>\n",
       "      <td>...</td>\n",
       "      <td>...</td>\n",
       "      <td>...</td>\n",
       "    </tr>\n",
       "    <tr>\n",
       "      <th>435935</th>\n",
       "      <td>435935</td>\n",
       "      <td>mezrjfkced@gmail.com</td>\n",
       "      <td>114.17</td>\n",
       "      <td>2016</td>\n",
       "    </tr>\n",
       "    <tr>\n",
       "      <th>435936</th>\n",
       "      <td>435936</td>\n",
       "      <td>rdotspqdxi@gmail.com</td>\n",
       "      <td>169.79</td>\n",
       "      <td>2016</td>\n",
       "    </tr>\n",
       "    <tr>\n",
       "      <th>435937</th>\n",
       "      <td>435937</td>\n",
       "      <td>fkweqlmmjw@gmail.com</td>\n",
       "      <td>79.71</td>\n",
       "      <td>2016</td>\n",
       "    </tr>\n",
       "    <tr>\n",
       "      <th>435938</th>\n",
       "      <td>435938</td>\n",
       "      <td>pidugzoeej@gmail.com</td>\n",
       "      <td>116.80</td>\n",
       "      <td>2016</td>\n",
       "    </tr>\n",
       "    <tr>\n",
       "      <th>435939</th>\n",
       "      <td>435939</td>\n",
       "      <td>kxqglfdktu@gmail.com</td>\n",
       "      <td>37.31</td>\n",
       "      <td>2016</td>\n",
       "    </tr>\n",
       "  </tbody>\n",
       "</table>\n",
       "<p>204646 rows × 4 columns</p>\n",
       "</div>"
      ],
      "text/plain": [
       "        Unnamed: 0         customer_email  net_revenue  year\n",
       "231294      231294   mwrossuukz@gmail.com       197.26  2016\n",
       "231295      231295   gkwsoupawk@gmail.com        38.28  2016\n",
       "231296      231296   vlyigtgfzs@gmail.com       154.57  2016\n",
       "231297      231297   yfirychuhk@gmail.com       102.47  2016\n",
       "231298      231298   trnzgqinuu@gmail.com        32.03  2016\n",
       "...            ...                    ...          ...   ...\n",
       "435935      435935   mezrjfkced@gmail.com       114.17  2016\n",
       "435936      435936   rdotspqdxi@gmail.com       169.79  2016\n",
       "435937      435937   fkweqlmmjw@gmail.com        79.71  2016\n",
       "435938      435938   pidugzoeej@gmail.com       116.80  2016\n",
       "435939      435939   kxqglfdktu@gmail.com        37.31  2016\n",
       "\n",
       "[204646 rows x 4 columns]"
      ]
     },
     "execution_count": 11,
     "metadata": {},
     "output_type": "execute_result"
    }
   ],
   "source": [
    "df_2016"
   ]
  },
  {
   "cell_type": "code",
   "execution_count": 12,
   "id": "74b55a64",
   "metadata": {},
   "outputs": [],
   "source": [
    "#new customer revenue will be same as total revenue for 2015 year"
   ]
  },
  {
   "cell_type": "code",
   "execution_count": 13,
   "id": "a7fe84a3",
   "metadata": {},
   "outputs": [
    {
     "data": {
      "text/plain": [
       "18245491.01"
      ]
     },
     "execution_count": 13,
     "metadata": {},
     "output_type": "execute_result"
    }
   ],
   "source": [
    "#new customer revenue for 2016\n",
    "import numpy as np\n",
    "new_cust_2016=df_2016[~df_2016['customer_email'].isin(df_2015['customer_email'])]\n",
    "new_cust_2016['net_revenue'].sum()"
   ]
  },
  {
   "cell_type": "code",
   "execution_count": 65,
   "id": "6452dc80",
   "metadata": {},
   "outputs": [
    {
     "data": {
      "text/plain": [
       "28776235.039999995"
      ]
     },
     "execution_count": 65,
     "metadata": {},
     "output_type": "execute_result"
    }
   ],
   "source": [
    "#new customer revenue for 2017\n",
    "new_cust_2017=df_2017[~df_2017['customer_email'].isin(df_2016['customer_email'])]\n",
    "new_cust_2017['net_revenue'].sum()"
   ]
  },
  {
   "cell_type": "code",
   "execution_count": 15,
   "id": "3abb0be7",
   "metadata": {},
   "outputs": [],
   "source": [
    "#existing customer growth for 2015 will be same as net_revenue\n"
   ]
  },
  {
   "cell_type": "raw",
   "id": "7a5405cb",
   "metadata": {},
   "source": [
    "Revenue of existing customers for current year – Revenue of existing customers from the previous year\n"
   ]
  },
  {
   "cell_type": "code",
   "execution_count": 63,
   "id": "cd339db1",
   "metadata": {},
   "outputs": [
    {
     "data": {
      "text/plain": [
       "7485452.579999998"
      ]
     },
     "execution_count": 63,
     "metadata": {},
     "output_type": "execute_result"
    }
   ],
   "source": [
    "#existing customer growth for 2016\n",
    "old_cust_in_2016=df_2016[~df_2016['customer_email'].isin(new_cust_2016['customer_email'])]\n",
    "\n",
    "\n",
    "new=new_cust_2016.net_revenue.sum()\n",
    "\n",
    "df_2016.net_revenue.sum()-new\n"
   ]
  },
  {
   "cell_type": "code",
   "execution_count": 17,
   "id": "59194a81",
   "metadata": {},
   "outputs": [],
   "source": [
    "#existing customer growth for 2017"
   ]
  },
  {
   "cell_type": "code",
   "execution_count": 64,
   "id": "bb91ae55",
   "metadata": {},
   "outputs": [
    {
     "data": {
      "text/plain": [
       "2641259.9900000207"
      ]
     },
     "execution_count": 64,
     "metadata": {},
     "output_type": "execute_result"
    }
   ],
   "source": [
    "old_cust_in_2017=df_2017[~df_2017['customer_email'].isin(new_cust_2017['customer_email'])]\n",
    "\n",
    "\n",
    "new=new_cust_2017.net_revenue.sum()\n",
    "\n",
    "df_2017.net_revenue.sum()-new\n"
   ]
  },
  {
   "cell_type": "code",
   "execution_count": 19,
   "id": "0e276e32",
   "metadata": {},
   "outputs": [],
   "source": [
    "#revenue lost "
   ]
  },
  {
   "cell_type": "code",
   "execution_count": 20,
   "id": "9d9e226f",
   "metadata": {},
   "outputs": [
    {
     "data": {
      "text/plain": [
       "21571632.070000004"
      ]
     },
     "execution_count": 20,
     "metadata": {},
     "output_type": "execute_result"
    }
   ],
   "source": [
    "#revenue lost attriion in 2016\n",
    "x=df_2015[~df_2015['customer_email'].isin(old_cust_in_2016['customer_email'])]\n",
    "df_2015[~df_2015['customer_email'].isin(old_cust_in_2016['customer_email'])].net_revenue.sum()"
   ]
  },
  {
   "cell_type": "code",
   "execution_count": 21,
   "id": "b3d7354e",
   "metadata": {},
   "outputs": [
    {
     "data": {
      "text/plain": [
       "171710"
      ]
     },
     "execution_count": 21,
     "metadata": {},
     "output_type": "execute_result"
    }
   ],
   "source": [
    "x.shape[0]"
   ]
  },
  {
   "cell_type": "code",
   "execution_count": 22,
   "id": "9187ec51",
   "metadata": {},
   "outputs": [
    {
     "data": {
      "text/plain": [
       "23110294.939999998"
      ]
     },
     "execution_count": 22,
     "metadata": {},
     "output_type": "execute_result"
    }
   ],
   "source": [
    "#revenue lost attriion in 2017\n",
    "y=df_2016[~df_2016['customer_email'].isin(old_cust_in_2017['customer_email'])]\n",
    "df_2016[~df_2016['customer_email'].isin(old_cust_in_2017['customer_email'])].net_revenue.sum()\n"
   ]
  },
  {
   "cell_type": "code",
   "execution_count": null,
   "id": "e209d173",
   "metadata": {},
   "outputs": [],
   "source": []
  },
  {
   "cell_type": "code",
   "execution_count": null,
   "id": "09a4babe",
   "metadata": {},
   "outputs": [],
   "source": []
  },
  {
   "cell_type": "code",
   "execution_count": 23,
   "id": "0901e277",
   "metadata": {},
   "outputs": [],
   "source": [
    "#existing customer revenue current year and prior year"
   ]
  },
  {
   "cell_type": "code",
   "execution_count": 24,
   "id": "7ab7985b",
   "metadata": {},
   "outputs": [
    {
     "data": {
      "text/plain": [
       "29036749.189999994"
      ]
     },
     "execution_count": 24,
     "metadata": {},
     "output_type": "execute_result"
    }
   ],
   "source": [
    "df_2015.net_revenue.sum()"
   ]
  },
  {
   "cell_type": "code",
   "execution_count": 25,
   "id": "4cda7b34",
   "metadata": {},
   "outputs": [
    {
     "data": {
      "text/plain": [
       "25730943.59"
      ]
     },
     "execution_count": 25,
     "metadata": {},
     "output_type": "execute_result"
    }
   ],
   "source": [
    "df_2016.net_revenue.sum()"
   ]
  },
  {
   "cell_type": "code",
   "execution_count": 26,
   "id": "bb84a681",
   "metadata": {},
   "outputs": [
    {
     "data": {
      "text/plain": [
       "31417495.030000016"
      ]
     },
     "execution_count": 26,
     "metadata": {},
     "output_type": "execute_result"
    }
   ],
   "source": [
    "df_2017.net_revenue.sum()"
   ]
  },
  {
   "cell_type": "code",
   "execution_count": null,
   "id": "94b7d9ed",
   "metadata": {},
   "outputs": [],
   "source": []
  },
  {
   "cell_type": "code",
   "execution_count": 27,
   "id": "4f8adc17",
   "metadata": {},
   "outputs": [],
   "source": [
    "#total customers"
   ]
  },
  {
   "cell_type": "code",
   "execution_count": 28,
   "id": "945884c6",
   "metadata": {},
   "outputs": [
    {
     "data": {
      "text/plain": [
       "231294"
      ]
     },
     "execution_count": 28,
     "metadata": {},
     "output_type": "execute_result"
    }
   ],
   "source": [
    "df_2015.shape[0]"
   ]
  },
  {
   "cell_type": "code",
   "execution_count": 29,
   "id": "054886ef",
   "metadata": {},
   "outputs": [
    {
     "data": {
      "text/plain": [
       "204646"
      ]
     },
     "execution_count": 29,
     "metadata": {},
     "output_type": "execute_result"
    }
   ],
   "source": [
    "df_2016.shape[0]"
   ]
  },
  {
   "cell_type": "code",
   "execution_count": 30,
   "id": "0e2e9423",
   "metadata": {},
   "outputs": [
    {
     "data": {
      "text/plain": [
       "249987"
      ]
     },
     "execution_count": 30,
     "metadata": {},
     "output_type": "execute_result"
    }
   ],
   "source": [
    "df_2017.shape[0]"
   ]
  },
  {
   "cell_type": "code",
   "execution_count": null,
   "id": "ffcd9bf7",
   "metadata": {},
   "outputs": [],
   "source": [
    "\n"
   ]
  },
  {
   "cell_type": "code",
   "execution_count": 31,
   "id": "2d1589ef",
   "metadata": {},
   "outputs": [],
   "source": [
    "#new customers "
   ]
  },
  {
   "cell_type": "code",
   "execution_count": 32,
   "id": "2cc6a6c6",
   "metadata": {},
   "outputs": [
    {
     "data": {
      "text/plain": [
       "145062"
      ]
     },
     "execution_count": 32,
     "metadata": {},
     "output_type": "execute_result"
    }
   ],
   "source": [
    "new_cust_2016.shape[0]"
   ]
  },
  {
   "cell_type": "code",
   "execution_count": 33,
   "id": "9b83c6bb",
   "metadata": {},
   "outputs": [
    {
     "data": {
      "text/plain": [
       "229028"
      ]
     },
     "execution_count": 33,
     "metadata": {},
     "output_type": "execute_result"
    }
   ],
   "source": [
    "new_cust_2017.shape[0]"
   ]
  },
  {
   "cell_type": "code",
   "execution_count": null,
   "id": "f7dd5cb9",
   "metadata": {},
   "outputs": [],
   "source": []
  },
  {
   "cell_type": "code",
   "execution_count": 34,
   "id": "d6a424d4",
   "metadata": {},
   "outputs": [],
   "source": [
    "#lost customers"
   ]
  },
  {
   "cell_type": "code",
   "execution_count": 35,
   "id": "c1efd413",
   "metadata": {},
   "outputs": [
    {
     "data": {
      "text/plain": [
       "171710"
      ]
     },
     "execution_count": 35,
     "metadata": {},
     "output_type": "execute_result"
    }
   ],
   "source": [
    "x.shape[0] #in 2016"
   ]
  },
  {
   "cell_type": "code",
   "execution_count": 36,
   "id": "d983c435",
   "metadata": {},
   "outputs": [
    {
     "data": {
      "text/plain": [
       "183687"
      ]
     },
     "execution_count": 36,
     "metadata": {},
     "output_type": "execute_result"
    }
   ],
   "source": [
    "y.shape[0] #in 2017"
   ]
  },
  {
   "cell_type": "code",
   "execution_count": null,
   "id": "6babca94",
   "metadata": {},
   "outputs": [],
   "source": []
  },
  {
   "cell_type": "code",
   "execution_count": 37,
   "id": "6b889fa0",
   "metadata": {},
   "outputs": [],
   "source": [
    "p=df_2016[df_2016['customer_email'].isin(df_2015['customer_email'])]"
   ]
  },
  {
   "cell_type": "code",
   "execution_count": 38,
   "id": "085cb4de",
   "metadata": {},
   "outputs": [],
   "source": [
    "q=df_2017[df_2017['customer_email'].isin(df_2016['customer_email'])]"
   ]
  },
  {
   "cell_type": "code",
   "execution_count": 39,
   "id": "ab79088e",
   "metadata": {},
   "outputs": [],
   "source": [
    "df_merged = pd.merge(p, q, how='inner',left_on=\"customer_email\",right_on=\"customer_email\")"
   ]
  },
  {
   "cell_type": "code",
   "execution_count": 40,
   "id": "b890b4b5",
   "metadata": {},
   "outputs": [
    {
     "data": {
      "text/plain": [
       "6162"
      ]
     },
     "execution_count": 40,
     "metadata": {},
     "output_type": "execute_result"
    }
   ],
   "source": [
    "df_merged.shape[0]"
   ]
  },
  {
   "cell_type": "code",
   "execution_count": 41,
   "id": "374888df",
   "metadata": {},
   "outputs": [
    {
     "data": {
      "text/plain": [
       "231294"
      ]
     },
     "execution_count": 41,
     "metadata": {},
     "output_type": "execute_result"
    }
   ],
   "source": [
    "df_2015.shape[0]"
   ]
  },
  {
   "cell_type": "code",
   "execution_count": 49,
   "id": "6dbfe4ad",
   "metadata": {},
   "outputs": [
    {
     "data": {
      "text/plain": [
       "225132"
      ]
     },
     "execution_count": 49,
     "metadata": {},
     "output_type": "execute_result"
    }
   ],
   "source": [
    "231294-6162"
   ]
  },
  {
   "cell_type": "code",
   "execution_count": 42,
   "id": "26178597",
   "metadata": {},
   "outputs": [
    {
     "data": {
      "image/png": "[encoded data removed]",
      "text/plain": [
       "<Figure size 432x288 with 1 Axes>"
      ]
     },
     "metadata": {},
     "output_type": "display_data"
    }
   ],
   "source": [
    "import matplotlib.pyplot as plt\n",
    "labels = 'Yes','No'\n",
    "sizes = [6162,225132]\n",
    "explode = (0.1,0)\n",
    "fig1, ax1 = plt.subplots()\n",
    "ax1.pie(sizes, explode=explode, labels=labels, autopct='%1.1f%%',\n",
    "        shadow=True, startangle=180)\n",
    "ax1.axis('equal')  # Equal aspect ratio ensures that pie is drawn as a circle.\n",
    "plt.title(\"Customers who are present from 2015 to 2017\")\n",
    "plt.show()"
   ]
  },
  {
   "cell_type": "code",
   "execution_count": null,
   "id": "f3be3960",
   "metadata": {},
   "outputs": [],
   "source": []
  },
  {
   "cell_type": "code",
   "execution_count": 43,
   "id": "e3cdc567",
   "metadata": {},
   "outputs": [],
   "source": [
    "#how many customers came back after leaving company\n",
    "#ex. 2015 ma hoi, 2016 ma no hoi and 2017 ma pa6a ayva hooi"
   ]
  },
  {
   "cell_type": "code",
   "execution_count": 44,
   "id": "2fa7556f",
   "metadata": {},
   "outputs": [
    {
     "data": {
      "text/plain": [
       "766"
      ]
     },
     "execution_count": 44,
     "metadata": {},
     "output_type": "execute_result"
    }
   ],
   "source": [
    "b=new_cust_2017[new_cust_2017['customer_email'].isin(df_2015['customer_email'])]\n",
    "b.shape[0]"
   ]
  },
  {
   "cell_type": "raw",
   "id": "42416568",
   "metadata": {},
   "source": [
    "who came back=766\n",
    "who didnt=170944"
   ]
  },
  {
   "cell_type": "code",
   "execution_count": 61,
   "id": "c7e200d7",
   "metadata": {},
   "outputs": [
    {
     "data": {
      "image/png": "[encoded data removed]",
      "text/plain": [
       "<Figure size 432x288 with 1 Axes>"
      ]
     },
     "metadata": {},
     "output_type": "display_data"
    }
   ],
   "source": [
    "import matplotlib.pyplot as plt\n",
    "data = [766, 170944]\n",
    "label = ['Came back', 'didnt']\n",
    "\n",
    "plt.pie(data, labels=label, autopct='%1.1f%%', explode=[0.1,0], shadow=True, startangle=180)\n",
    "plt.title('Customers who came back to company in 2017')\n",
    "plt.axis('equal')\n",
    "plt.show()\n"
   ]
  },
  {
   "cell_type": "code",
   "execution_count": null,
   "id": "598a56cb",
   "metadata": {},
   "outputs": [],
   "source": []
  },
  {
   "cell_type": "code",
   "execution_count": 46,
   "id": "d90cdc20",
   "metadata": {},
   "outputs": [
    {
     "data": {
      "text/plain": [
       "99627.4"
      ]
     },
     "execution_count": 46,
     "metadata": {},
     "output_type": "execute_result"
    }
   ],
   "source": [
    "b.net_revenue.sum()"
   ]
  },
  {
   "cell_type": "code",
   "execution_count": 47,
   "id": "fe5ce9e0",
   "metadata": {},
   "outputs": [
    {
     "data": {
      "text/plain": [
       "31417495.030000016"
      ]
     },
     "execution_count": 47,
     "metadata": {},
     "output_type": "execute_result"
    }
   ],
   "source": [
    "df_2017.net_revenue.sum()"
   ]
  },
  {
   "cell_type": "code",
   "execution_count": null,
   "id": "3cc53b5a",
   "metadata": {},
   "outputs": [],
   "source": []
  }
 ],
 "metadata": {
  "kernelspec": {
   "display_name": "Python 3",
   "language": "python",
   "name": "python3"
  },
  "language_info": {
   "codemirror_mode": {
    "name": "ipython",
    "version": 3
   },
   "file_extension": ".py",
   "mimetype": "text/x-python",
   "name": "python",
   "nbconvert_exporter": "python",
   "pygments_lexer": "ipython3",
   "version": "3.8.8"
  }
 },
 "nbformat": 4,
 "nbformat_minor": 5
}
